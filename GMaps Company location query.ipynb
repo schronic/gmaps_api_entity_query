{
 "cells": [
  {
   "cell_type": "code",
   "execution_count": null,
   "id": "c11175cc",
   "metadata": {},
   "outputs": [],
   "source": [
    "# GET LOCATIONS (AND ADDITIONAL PLACE RELATED INFORMATION) FOR ANY NUMBER OF EG COMPANIES BASED ON THE GOOGLE MAPS API"
   ]
  },
  {
   "cell_type": "code",
   "execution_count": null,
   "id": "d1893924",
   "metadata": {},
   "outputs": [],
   "source": [
    "import json\n",
    "import requests\n",
    "import numpy as np\n",
    "import re\n",
    "from shapely.geometry import Point, Polygon\n",
    "import pandas as pd\n",
    "import urllib\n",
    "import gspread\n",
    "import df2gspread as d2g\n",
    "from df2gspread import df2gspread as d2g\n",
    "from oauth2client.service_account import ServiceAccountCredentials\n",
    "\n",
    "all_company = []\n"
   ]
  },
  {
   "cell_type": "code",
   "execution_count": null,
   "id": "cfc4b1c1",
   "metadata": {},
   "outputs": [],
   "source": [
    "API_KEY = 'GOOGLE MAPS API'"
   ]
  },
  {
   "cell_type": "code",
   "execution_count": null,
   "id": "ce15fae5",
   "metadata": {},
   "outputs": [],
   "source": [
    "companies = [\"LIST OF ALL COMPANIES TO QUERY FOR\"]"
   ]
  },
  {
   "cell_type": "code",
   "execution_count": null,
   "id": "a9845a46",
   "metadata": {},
   "outputs": [],
   "source": [
    "\n",
    "def place_id(place_id):\n",
    "    # GET ALL ADDITIONAL INFORMATION BASED ON PLACE ID\n",
    "    url = f\"https://maps.googleapis.com/maps/api/place/details/json?place_id={place_id}&key={API_KEY}\"\n",
    "\n",
    "    payload={}\n",
    "    headers = {}\n",
    "\n",
    "    response = requests.request(\"GET\", url, headers=headers, data=payload)\n",
    "    result = response.json()['result'] if 'result' in response.json() else None\n",
    "    \n",
    "    card = {\n",
    "        'place_id' : place_id,\n",
    "        'state': None, \n",
    "        'postal_code': None, \n",
    "        'locality': None, \n",
    "        'website': None, \n",
    "        'international_phone_number': None, \n",
    "        'name': None\n",
    "    }\n",
    "        \n",
    "    if result:           \n",
    "        if result['address_components']:\n",
    "            for i in result['address_components']:\n",
    "                if 'administrative_area_level_1' in i['types']:\n",
    "                    card['state'] = i['long_name']\n",
    "                if 'postal_code' in i['types']:\n",
    "                    card['postal_code'] = i['long_name']\n",
    "                if 'locality' in i['types']:\n",
    "                    card['locality'] = i['long_name']\n",
    "\n",
    "        card['website'] = result['website'] if 'website' in result else None\n",
    "        card['international_phone_number'] = result['international_phone_number'] if 'international_phone_number' in result else None\n",
    "        card['name'] = result['name'] if 'name' in result else None\n",
    "        \n",
    "    return card"
   ]
  },
  {
   "cell_type": "code",
   "execution_count": null,
   "id": "83c2b36f",
   "metadata": {},
   "outputs": [],
   "source": [
    "def gmaps_search(query):\n",
    "    # TEXTSEARCH GOOGLE MAPS BASED ON NAME OF COMPANY\n",
    "    search_endpoint = 'https://maps.googleapis.com/maps/api/place/textsearch/json'\n",
    "\n",
    "    search_params = {\n",
    "    'query': query,\n",
    "    'key': API_KEY,\n",
    "    'language': 'de'\n",
    "    }\n",
    "\n",
    "    response = requests.get( search_endpoint, params=search_params)\n",
    "    results = response.json()['results']\n",
    "\n",
    "    all_cards = []\n",
    "    print(len(results))\n",
    "    if results:\n",
    "        for i in range(0, len(results)): \n",
    "            card = {}\n",
    "            \n",
    "\n",
    "            card['business_status'] = results[i]['business_status'] if 'business_status' in results[i] else np.nan\n",
    "            card['player_name'] = query\n",
    "            card['address'] = results[i]['formatted_address'] if 'formatted_address' in results[i] else np.nan\n",
    "            card['name'] = results[i]['name'] if 'name' in results[i] else np.nan\n",
    "            card['rating'] = results[i]['rating'] if 'rating' in results[i] else np.nan\n",
    "            card['user_ratings_total'] = results[i]['user_ratings_total'] if 'user_ratings_total' in results[i] else np.nan\n",
    "\n",
    "            if 'place_id' in results[i].keys():\n",
    "                place_card = place_id(results[i]['place_id'])\n",
    "                card['place_id'] = place_card\n",
    "\n",
    "            all_cards.append(card)   \n",
    "    return all_cards\n",
    "\n"
   ]
  },
  {
   "cell_type": "code",
   "execution_count": null,
   "id": "d582fdc9",
   "metadata": {},
   "outputs": [],
   "source": [
    "for c in companies: \n",
    "    query_cards = gmaps_search(c)\n",
    "    all_company.append(query_cards)\n"
   ]
  },
  {
   "cell_type": "code",
   "execution_count": null,
   "id": "035f2466",
   "metadata": {},
   "outputs": [],
   "source": [
    "l = []\n",
    "for comp in [item for sublist in x for item in sublist]:\n",
    "    d = {\n",
    "        'business_status' : comp['business_status'],\n",
    "        'player_name' : comp['player_name'],\n",
    "        'address' : comp['address'],\n",
    "        'name' : comp['name'],\n",
    "        'rating' : comp['rating'],\n",
    "        'user_ratings_total' : comp['user_ratings_total'],\n",
    "        'state' : comp['place_id']['state'],\n",
    "        'postal_code' : comp['place_id']['postal_code'],\n",
    "        'locality' : comp['place_id']['locality'],\n",
    "        'website' : comp['place_id']['website'],\n",
    "        'international_phone_number' : comp['place_id']['international_phone_number']\n",
    "    }\n",
    "    \n",
    "    l.append(d)"
   ]
  },
  {
   "cell_type": "code",
   "execution_count": null,
   "id": "0ae84c89",
   "metadata": {},
   "outputs": [],
   "source": [
    "df = pd.DataFrame.from_records(l)"
   ]
  },
  {
   "cell_type": "code",
   "execution_count": null,
   "id": "3b1fb955",
   "metadata": {},
   "outputs": [],
   "source": [
    "df.head()"
   ]
  },
  {
   "cell_type": "code",
   "execution_count": null,
   "id": "4130ae49",
   "metadata": {},
   "outputs": [],
   "source": [
    "all_company = [ele for ele in all_company if ele != []]"
   ]
  },
  {
   "cell_type": "code",
   "execution_count": null,
   "id": "09855878",
   "metadata": {
    "scrolled": true
   },
   "outputs": [],
   "source": [
    "company_count = [len(i) for i in all_company]"
   ]
  },
  {
   "cell_type": "code",
   "execution_count": null,
   "id": "5c4147db",
   "metadata": {},
   "outputs": [],
   "source": [
    "# GET LAT AND LNG \n",
    "\n",
    "for i, row in df.iterrows():\n",
    "    address = str(df.at[i,'address'])  \n",
    "    encoded_address = urllib.parse.quote(address)\n",
    "    response = requests.get('https://maps.googleapis.com/maps/api/geocode/json?address='+encoded_address+'&key='+API_KEY)\n",
    "    resp_json = response.json()\n",
    "    lat = (resp_json['results'][0]['geometry']['location']['lat'])\n",
    "    lng = (resp_json['results'][0]['geometry']['location']['lng'])\n",
    "\n",
    "    df.at[i,'lat'] = lat\n",
    "    df.at[i,'lng'] = lng"
   ]
  },
  {
   "cell_type": "code",
   "execution_count": null,
   "id": "3fd5dab9",
   "metadata": {},
   "outputs": [],
   "source": [
    "\n",
    "# LOAD RESULTS TO GOOGLE SHEETS DOCUMENT. YOU NEED TO GET YOUR CREDENTIALS TO DO SO FIRST. PLEASE LOOK THIS STEP UP YOURSELF. \n",
    "\n",
    "scope = ['https://spreadsheets.google.com/feeds',\n",
    "         'https://www.googleapis.com/auth/drive']\n",
    "credentials = ServiceAccountCredentials.from_json_keyfile_name(\n",
    "    'PATH TO jsonFileFromGoogle.json', scope)\n",
    "gc = gspread.authorize(credentials)\n",
    "\n",
    "spreadsheet_key = 'GOOGLE SPREADSHEET ID'\n",
    "wks_name = 'WORKSHEET NAME'\n",
    "d2g.upload(df.reset_index(), spreadsheet_key, wks_name, credentials=credentials, row_names=True)"
   ]
  },
  {
   "cell_type": "code",
   "execution_count": null,
   "id": "a592681e",
   "metadata": {},
   "outputs": [],
   "source": []
  }
 ],
 "metadata": {
  "kernelspec": {
   "display_name": "Python 3 (ipykernel)",
   "language": "python",
   "name": "python3"
  },
  "language_info": {
   "codemirror_mode": {
    "name": "ipython",
    "version": 3
   },
   "file_extension": ".py",
   "mimetype": "text/x-python",
   "name": "python",
   "nbconvert_exporter": "python",
   "pygments_lexer": "ipython3",
   "version": "3.8.9"
  }
 },
 "nbformat": 4,
 "nbformat_minor": 5
}
